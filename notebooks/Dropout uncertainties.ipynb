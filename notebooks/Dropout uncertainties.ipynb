{
 "cells": [
  {
   "cell_type": "code",
   "execution_count": 1,
   "metadata": {
    "ExecuteTime": {
     "end_time": "2022-12-15T10:41:48.245492Z",
     "start_time": "2022-12-15T10:41:48.193219Z"
    },
    "executionInfo": {
     "elapsed": 7,
     "status": "ok",
     "timestamp": 1671186622583,
     "user": {
      "displayName": "Valerii Kornilov",
      "userId": "02112509511358425551"
     },
     "user_tz": -180
    },
    "id": "cIzy0V22ieRK"
   },
   "outputs": [],
   "source": [
    "%load_ext autoreload\n",
    "%autoreload 2"
   ]
  },
  {
   "cell_type": "code",
   "execution_count": 2,
   "metadata": {
    "ExecuteTime": {
     "end_time": "2022-12-15T10:41:48.941161Z",
     "start_time": "2022-12-15T10:41:48.889948Z"
    },
    "executionInfo": {
     "elapsed": 7,
     "status": "ok",
     "timestamp": 1671186622583,
     "user": {
      "displayName": "Valerii Kornilov",
      "userId": "02112509511358425551"
     },
     "user_tz": -180
    },
    "id": "T6C1ceNTieRQ"
   },
   "outputs": [],
   "source": [
    "import sys\n",
    "sys.path.append('../src')"
   ]
  },
  {
   "cell_type": "code",
   "execution_count": 3,
   "metadata": {},
   "outputs": [],
   "source": [
    "import warnings\n",
    "warnings.filterwarnings(\"ignore\")"
   ]
  },
  {
   "cell_type": "code",
   "execution_count": 4,
   "metadata": {
    "ExecuteTime": {
     "end_time": "2022-12-15T10:47:51.088609Z",
     "start_time": "2022-12-15T10:47:49.881052Z"
    },
    "executionInfo": {
     "elapsed": 8,
     "status": "ok",
     "timestamp": 1671186673009,
     "user": {
      "displayName": "Valerii Kornilov",
      "userId": "02112509511358425551"
     },
     "user_tz": -180
    },
    "id": "vTF-rEraieRR"
   },
   "outputs": [],
   "source": [
    "import torch\n",
    "import torch.nn.functional as F\n",
    "\n",
    "import pandas as pd\n",
    "import numpy as np\n",
    "\n",
    "import os\n",
    "from tqdm.auto import tqdm\n",
    "\n",
    "from rocket import ROCKET, Logreg\n",
    "from ucr_utils import load_ucr_seq, train_val_split\n",
    "from uncertainty_estimation import *\n",
    "import matplotlib.pyplot as plt\n",
    "\n",
    "from sklearn.metrics import roc_auc_score"
   ]
  },
  {
   "cell_type": "markdown",
   "metadata": {
    "id": "9JxrD8DYieRT"
   },
   "source": [
    "### Settings"
   ]
  },
  {
   "cell_type": "code",
   "execution_count": 5,
   "metadata": {
    "colab": {
     "base_uri": "https://localhost:8080/"
    },
    "executionInfo": {
     "elapsed": 576,
     "status": "ok",
     "timestamp": 1671186638759,
     "user": {
      "displayName": "Valerii Kornilov",
      "userId": "02112509511358425551"
     },
     "user_tz": -180
    },
    "id": "dj612kT7ieRU",
    "outputId": "76df7997-9869-475c-9cb8-2ac6f4fe2e02"
   },
   "outputs": [
    {
     "data": {
      "text/plain": [
       "<torch._C.Generator at 0x7febb40d1d90>"
      ]
     },
     "execution_count": 5,
     "metadata": {},
     "output_type": "execute_result"
    }
   ],
   "source": [
    "PATH_TO_UCR = '../data/Univariate_ts/'\n",
    "PATH_TO_BAKEOFF_SEQUENCES = '../data/results_ucr_bakeoff.csv'\n",
    "PATH_TO_ADDITIONAL_SEQUENCES = '../data/results_ucr_additional.csv'\n",
    "\n",
    "device = torch.device('cuda:0' if torch.cuda.is_available() else 'cpu')\n",
    "\n",
    "torch.manual_seed(0)"
   ]
  },
  {
   "cell_type": "markdown",
   "metadata": {
    "id": "ehm1_1g6ieRV"
   },
   "source": [
    "### Load data"
   ]
  },
  {
   "cell_type": "code",
   "execution_count": 6,
   "metadata": {
    "executionInfo": {
     "elapsed": 2288,
     "status": "ok",
     "timestamp": 1671186644284,
     "user": {
      "displayName": "Valerii Kornilov",
      "userId": "02112509511358425551"
     },
     "user_tz": -180
    },
    "id": "KxxZha4RieRX"
   },
   "outputs": [],
   "source": [
    "bakeoff_sequences = pd.read_csv(PATH_TO_BAKEOFF_SEQUENCES)\n",
    "additional_sequences = pd.read_csv(PATH_TO_ADDITIONAL_SEQUENCES)\n",
    "all_sequences = pd.concat([bakeoff_sequences, additional_sequences])\n",
    "all_sequences = all_sequences.set_index('dataset')"
   ]
  },
  {
   "cell_type": "markdown",
   "metadata": {
    "id": "6jHHzewYieRb"
   },
   "source": [
    "### Calculate uncertainty with dropout"
   ]
  },
  {
   "cell_type": "code",
   "execution_count": 7,
   "metadata": {
    "colab": {
     "base_uri": "https://localhost:8080/",
     "height": 81,
     "referenced_widgets": [
      "99af6edec9d14f6ebd3e3497b973f9f5",
      "ddda6da8c2b5494a806e982b534175c3",
      "4d2aefbd75204dc6ba7d5cf22095c92e",
      "67cfbf56ace44b96937caee9d7e9c389",
      "37300f9966a44011b3d9c1ba6eb27d05",
      "791266931386412db3f263ca77864e23",
      "9b75d9cb504a4eefba294bba5583a5b0",
      "bb12a6f732e0400fa05cd08bdb25c269",
      "189e6e161f8047d3ad4d832d75bda4c7",
      "e5152f9107c5463a933d86e8f321cf84",
      "604558fbf9c94598ac2508128787b82a",
      "09c79932a4ce4c64adcd4dde25059ca6",
      "7fe94209229a40e4b7e078171311f116",
      "768261bcf5e14041a1ec9e3bcc7d0da3",
      "3eea0083aa504d05a80ace02d5ea0dd0",
      "4ee88168a0c541f9aaaf1137706a8d3a",
      "880abbf33a5f48098df9fdc8f2fec24c",
      "ae23691811cf4019ae02a09979a9128b",
      "f6f897f65ab14ed68c432f5581d4ac8d",
      "833bb0b98de3415dbea3ab705f7ee012",
      "e45a6afe3edf424aab5ba580dca73e46",
      "55ca2807d0fa4a5fb37468c1e480c7ef"
     ]
    },
    "executionInfo": {
     "elapsed": 30743,
     "status": "ok",
     "timestamp": 1671186973120,
     "user": {
      "displayName": "Valerii Kornilov",
      "userId": "02112509511358425551"
     },
     "user_tz": -180
    },
    "id": "wHK3gvk9ieRc",
    "outputId": "3ad2dfe0-1af0-406c-b05c-0c1c5f954e19"
   },
   "outputs": [
    {
     "name": "stderr",
     "output_type": "stream",
     "text": [
      "100%|█████████████████████████████████████████████████████████████████████████████████| 128/128 [27:51<00:00, 13.06s/it]\n"
     ]
    }
   ],
   "source": [
    "dropout_uncertainties = {}\n",
    "p_dropout = 0.1\n",
    "\n",
    "for seq in tqdm(all_sequences.index):\n",
    "    \n",
    "    if seq == 'Crop':\n",
    "        dropout_samples = 200\n",
    "    else:\n",
    "        dropout_samples = 500\n",
    "        \n",
    "    x, y, x_test, y_test = load_ucr_seq(PATH_TO_UCR, seq, device)\n",
    "    x_train, y_train, x_val, y_val = train_val_split(x, y, val_size=0.3, seed=9)\n",
    "\n",
    "    rocket = ROCKET(input_len=x_train.size(2), n_kernels=10000, kernels_sizes_set=torch.tensor([7, 9, 11]), device=device)\n",
    "\n",
    "    x_train_rocket = rocket.generate_random_features(x_train)\n",
    "    const_columns_mask = (x_train_rocket.std(0) == 0)\n",
    "    x_train_rocket = x_train_rocket[:,  ~const_columns_mask]\n",
    "    x_train_rocket_mean, x_train_rocket_std = x_train_rocket.mean(0), x_train_rocket.std(0)\n",
    "    x_train_rocket = (x_train_rocket - x_train_rocket_mean) / x_train_rocket_std\n",
    "\n",
    "    x_test_rocket = rocket.generate_random_features(x_test) \n",
    "    x_test_rocket = x_test_rocket[:,  ~const_columns_mask]\n",
    "    x_test_rocket = (x_test_rocket - x_train_rocket_mean) / x_train_rocket_std\n",
    "\n",
    "    x_val_rocket = rocket.generate_random_features(x_val) \n",
    "    x_val_rocket = x_val_rocket[:,  ~const_columns_mask]\n",
    "    x_val_rocket = (x_val_rocket - x_train_rocket_mean) / x_train_rocket_std\n",
    "\n",
    "    logreg = Logreg(\n",
    "        n_features=x_train_rocket.size(1),\n",
    "        n_classes=len(torch.unique(y_train)),\n",
    "        p_dropout=p_dropout, \n",
    "        lr=1e-2,\n",
    "        weight_decay=1e-1,\n",
    "        epochs_to_wait=5,\n",
    "        tol=1e-4,\n",
    "        max_steps=500,\n",
    "        ignore_first_n_steps=100,\n",
    "        device=device\n",
    "    )\n",
    "\n",
    "    logreg.train(x_train_rocket, y_train, x_val_rocket, y_val)\n",
    "\n",
    "    # Dropout samples\n",
    "    logits_samples = []\n",
    "    for _ in range(dropout_samples):\n",
    "        _, _, logits = logreg.validate(x_test_rocket, y_test, mode='train')\n",
    "        logits_samples.append(logits)\n",
    "    logits_samples = torch.stack(logits_samples, dim=2)\n",
    "    preds = F.softmax(logits_samples, dim=1).mean(dim=2).argmax(dim=1)\n",
    "    acc = accuracy(y_test, preds)\n",
    "\n",
    "    # Uncertainty estimation\n",
    "    rejection_rates = torch.linspace(0, 1-1/len(y_test), len(y_test)-1).to(device)\n",
    "    metrics = estimate_uncertainty_on_ensemble(logits_samples, y_test)\n",
    "    irc = ideal_rejection_curve(preds, y_test, rejection_rates)\n",
    "\n",
    "    aucs = {'accuracy': acc}\n",
    "    for metric_name, metric_values in metrics.items():\n",
    "        if (acc == 1.0):\n",
    "            aucs[metric_name+'_roc_auc'] = 1.\n",
    "            aucs[metric_name] = 1.\n",
    "        else:\n",
    "            aucs[metric_name+'_roc_auc'] = roc_auc_score((y_test == preds).cpu().numpy(), -metric_values.cpu().numpy())\n",
    "            rc = rejection_curve(metric_values, preds, y_test, rejection_rates, accuracy).to(device)\n",
    "            aucs[metric_name] = AUC(rejection_rates, irc, rc) \n",
    "\n",
    "    dropout_uncertainties[seq] = aucs"
   ]
  },
  {
   "cell_type": "code",
   "execution_count": 8,
   "metadata": {
    "colab": {
     "base_uri": "https://localhost:8080/"
    },
    "executionInfo": {
     "elapsed": 486,
     "status": "ok",
     "timestamp": 1671186985747,
     "user": {
      "displayName": "Valerii Kornilov",
      "userId": "02112509511358425551"
     },
     "user_tz": -180
    },
    "id": "Ms6clgpbF5h1",
    "outputId": "2699651a-c30f-4cf2-ceed-8285eb2a1275"
   },
   "outputs": [],
   "source": [
    "pd.DataFrame.from_dict(dropout_uncertainties, orient='index').to_csv('../results/uncertainty_results_dropout.csv')"
   ]
  },
  {
   "cell_type": "markdown",
   "metadata": {
    "id": "w4U7faMFtF54"
   },
   "source": [
    "### Visualization of rejection curves"
   ]
  },
  {
   "cell_type": "code",
   "execution_count": 9,
   "metadata": {
    "colab": {
     "base_uri": "https://localhost:8080/",
     "height": 49,
     "referenced_widgets": [
      "7288df80a2ef4a9498b2d174cf6d024c",
      "f369e1f1885048829e5ccb0ae3d9163a",
      "548be41df6704219b9afbc087b864c43",
      "5a8381adb71b4c9ab18d026412a92b9b",
      "b926a126c7dd48f1b4ad666143e2e1ee",
      "f1d41ef811154956b39ab6e1b9ecc904",
      "7e675a1f2cab41abbfcf2c3543345134",
      "299f93eae7434103b1a78c5484d96859",
      "bf1c94a683064d58b26c09af03a93ecd",
      "339f9aeae2e24442b2839ecb42965e03",
      "f9259119d8ef4525ad257af0543d4256"
     ]
    },
    "executionInfo": {
     "elapsed": 32356,
     "status": "ok",
     "timestamp": 1671130389537,
     "user": {
      "displayName": "Valerii Kornilov",
      "userId": "02112509511358425551"
     },
     "user_tz": -180
    },
    "id": "v2n-3dPiieRd",
    "outputId": "699c71c5-3f95-4e65-ce57-4c294cc89b67"
   },
   "outputs": [
    {
     "name": "stderr",
     "output_type": "stream",
     "text": [
      "100%|██████████████████████████████████████████████████████████████████████████████| 1000/1000 [00:03<00:00, 327.03it/s]\n"
     ]
    }
   ],
   "source": [
    "dropout_uncertainties = {}\n",
    "dropout_samples = 1000\n",
    "p_dropout = 0.1\n",
    "\n",
    "seq = all_sequences.index[0]\n",
    "    \n",
    "x, y, x_test, y_test = load_ucr_seq(PATH_TO_UCR, seq, device)\n",
    "x_train, y_train, x_val, y_val = train_val_split(x, y, val_size=0.3, seed=9)\n",
    "    \n",
    "rocket = ROCKET(input_len=x_train.size(2), n_kernels=10000, kernels_sizes_set=torch.tensor([7, 9, 11]),device=device)\n",
    "    \n",
    "x_train_rocket = rocket.generate_random_features(x_train)\n",
    "const_columns_mask = (x_train_rocket.std(0) == 0)\n",
    "x_train_rocket = x_train_rocket[:,  ~const_columns_mask]\n",
    "x_train_rocket_mean, x_train_rocket_std = x_train_rocket.mean(0), x_train_rocket.std(0)\n",
    "x_train_rocket = (x_train_rocket - x_train_rocket_mean) / x_train_rocket_std\n",
    "\n",
    "x_test_rocket = rocket.generate_random_features(x_test) \n",
    "x_test_rocket = x_test_rocket[:,  ~const_columns_mask]\n",
    "x_test_rocket = (x_test_rocket - x_train_rocket_mean) / x_train_rocket_std\n",
    "\n",
    "x_val_rocket = rocket.generate_random_features(x_val) \n",
    "x_val_rocket = x_val_rocket[:,  ~const_columns_mask]\n",
    "x_val_rocket = (x_val_rocket - x_train_rocket_mean) / x_train_rocket_std\n",
    "\n",
    "logreg = Logreg(\n",
    "    n_features=x_train_rocket.size(1),\n",
    "    n_classes=len(torch.unique(y_train)),\n",
    "    p_dropout=p_dropout, \n",
    "    lr=1e-2,\n",
    "    weight_decay=1e-1,\n",
    "    epochs_to_wait=5,\n",
    "    tol=1e-4,\n",
    "    max_steps=500,\n",
    "    ignore_first_n_steps=100,\n",
    "    device=device\n",
    ")\n",
    "\n",
    "logreg.train(x_train_rocket, y_train, x_val_rocket, y_val)\n",
    "\n",
    "# Dropout samples\n",
    "logits_samples = []\n",
    "for _ in tqdm(range(dropout_samples)):\n",
    "    _, _, logits = logreg.validate(x_test_rocket, y_test, mode='train')\n",
    "    logits_samples.append(logits)\n",
    "logits_samples = torch.stack(logits_samples, dim=2)\n",
    "preds = F.softmax(logits_samples, dim=1).mean(dim=2).argmax(dim=1)\n",
    "acc = accuracy(y_test, preds)\n",
    "\n",
    "# Uncertainty estimation\n",
    "rejection_rates = torch.linspace(0, 1-1/len(y_test), len(y_test)-1).to(device)\n",
    "# rejection_rates = torch.linspace(0, 1 - 1e-9, 10000).to(device)\n",
    "metrics = estimate_uncertainty_on_ensemble(logits_samples, y_test)\n",
    "irc = ideal_rejection_curve(preds, y_test, rejection_rates)\n",
    "\n",
    "rcs = {}\n",
    "for metric_name, metric_values in metrics.items():\n",
    "    rc = rejection_curve(metric_values, preds, y_test, rejection_rates, accuracy)\n",
    "    rcs[metric_name] = rc\n",
    "\n",
    "rejection_rates = rejection_rates.cpu().numpy()"
   ]
  },
  {
   "cell_type": "code",
   "execution_count": 10,
   "metadata": {
    "colab": {
     "base_uri": "https://localhost:8080/",
     "height": 369
    },
    "executionInfo": {
     "elapsed": 3849,
     "status": "ok",
     "timestamp": 1671130397369,
     "user": {
      "displayName": "Valerii Kornilov",
      "userId": "02112509511358425551"
     },
     "user_tz": -180
    },
    "id": "66aWQUFit0Q3",
    "outputId": "4861e4e1-1a60-4546-808f-dbe93fcdecb7"
   },
   "outputs": [
    {
     "data": {
      "image/png": "[encoded data removed]",
      "text/plain": [
       "<Figure size 800x500 with 1 Axes>"
      ]
     },
     "metadata": {},
     "output_type": "display_data"
    }
   ],
   "source": [
    "fig, ax = plt.subplots(1, 1, figsize=(8, 5))\n",
    "\n",
    "for metric, values in rcs.items():\n",
    "    ax.plot(rejection_rates, values.numpy(), label=metric)\n",
    "\n",
    "ax.plot(rejection_rates, irc.cpu().numpy())\n",
    "ax.set_title(f'Visualization of rejection curves for {seq}')\n",
    "ax.set_xlabel('Rejection rate')\n",
    "ax.set_ylabel('Accuracy')\n",
    "ax.grid(visible=True)\n",
    "plt.legend()\n",
    "plt.tight_layout()\n",
    "\n",
    "plt.savefig('../results/example_rc.pdf')"
   ]
  }
 ],
 "metadata": {
  "accelerator": "GPU",
  "colab": {
   "provenance": []
  },
  "gpuClass": "standard",
  "kernelspec": {
   "display_name": "Python 3",
   "language": "python",
   "name": "python3"
  },
  "language_info": {
   "codemirror_mode": {
    "name": "ipython",
    "version": 3
   },
   "file_extension": ".py",
   "mimetype": "text/x-python",
   "name": "python",
   "nbconvert_exporter": "python",
   "pygments_lexer": "ipython3",
   "version": "3.8.3"
  },
  "latex_envs": {
   "LaTeX_envs_menu_present": true,
   "autoclose": false,
   "autocomplete": true,
   "bibliofile": "biblio.bib",
   "cite_by": "apalike",
   "current_citInitial": 1,
   "eqLabelWithNumbers": true,
   "eqNumInitial": 1,
   "hotkeys": {
    "equation": "Ctrl-E",
    "itemize": "Ctrl-I"
   },
   "labels_anchors": false,
   "latex_user_defs": false,
   "report_style_numbering": false,
   "user_envs_cfg": false
  },
  "widgets": {
   "application/vnd.jupyter.widget-state+json": {
    "09c79932a4ce4c64adcd4dde25059ca6": {
     "model_module": "@jupyter-widgets/controls",
     "model_module_version": "1.5.0",
     "model_name": "HBoxModel",
     "state": {
      "_dom_classes": [],
      "_model_module": "@jupyter-widgets/controls",
      "_model_module_version": "1.5.0",
      "_model_name": "HBoxModel",
      "_view_count": null,
      "_view_module": "@jupyter-widgets/controls",
      "_view_module_version": "1.5.0",
      "_view_name": "HBoxView",
      "box_style": "",
      "children": [
       "IPY_MODEL_7fe94209229a40e4b7e078171311f116",
       "IPY_MODEL_768261bcf5e14041a1ec9e3bcc7d0da3",
       "IPY_MODEL_3eea0083aa504d05a80ace02d5ea0dd0"
      ],
      "layout": "IPY_MODEL_4ee88168a0c541f9aaaf1137706a8d3a"
     }
    },
    "189e6e161f8047d3ad4d832d75bda4c7": {
     "model_module": "@jupyter-widgets/controls",
     "model_module_version": "1.5.0",
     "model_name": "ProgressStyleModel",
     "state": {
      "_model_module": "@jupyter-widgets/controls",
      "_model_module_version": "1.5.0",
      "_model_name": "ProgressStyleModel",
      "_view_count": null,
      "_view_module": "@jupyter-widgets/base",
      "_view_module_version": "1.2.0",
      "_view_name": "StyleView",
      "bar_color": null,
      "description_width": ""
     }
    },
    "299f93eae7434103b1a78c5484d96859": {
     "model_module": "@jupyter-widgets/base",
     "model_module_version": "1.2.0",
     "model_name": "LayoutModel",
     "state": {
      "_model_module": "@jupyter-widgets/base",
      "_model_module_version": "1.2.0",
      "_model_name": "LayoutModel",
      "_view_count": null,
      "_view_module": "@jupyter-widgets/base",
      "_view_module_version": "1.2.0",
      "_view_name": "LayoutView",
      "align_content": null,
      "align_items": null,
      "align_self": null,
      "border": null,
      "bottom": null,
      "display": null,
      "flex": null,
      "flex_flow": null,
      "grid_area": null,
      "grid_auto_columns": null,
      "grid_auto_flow": null,
      "grid_auto_rows": null,
      "grid_column": null,
      "grid_gap": null,
      "grid_row": null,
      "grid_template_areas": null,
      "grid_template_columns": null,
      "grid_template_rows": null,
      "height": null,
      "justify_content": null,
      "justify_items": null,
      "left": null,
      "margin": null,
      "max_height": null,
      "max_width": null,
      "min_height": null,
      "min_width": null,
      "object_fit": null,
      "object_position": null,
      "order": null,
      "overflow": null,
      "overflow_x": null,
      "overflow_y": null,
      "padding": null,
      "right": null,
      "top": null,
      "visibility": null,
      "width": null
     }
    },
    "339f9aeae2e24442b2839ecb42965e03": {
     "model_module": "@jupyter-widgets/base",
     "model_module_version": "1.2.0",
     "model_name": "LayoutModel",
     "state": {
      "_model_module": "@jupyter-widgets/base",
      "_model_module_version": "1.2.0",
      "_model_name": "LayoutModel",
      "_view_count": null,
      "_view_module": "@jupyter-widgets/base",
      "_view_module_version": "1.2.0",
      "_view_name": "LayoutView",
      "align_content": null,
      "align_items": null,
      "align_self": null,
      "border": null,
      "bottom": null,
      "display": null,
      "flex": null,
      "flex_flow": null,
      "grid_area": null,
      "grid_auto_columns": null,
      "grid_auto_flow": null,
      "grid_auto_rows": null,
      "grid_column": null,
      "grid_gap": null,
      "grid_row": null,
      "grid_template_areas": null,
      "grid_template_columns": null,
      "grid_template_rows": null,
      "height": null,
      "justify_content": null,
      "justify_items": null,
      "left": null,
      "margin": null,
      "max_height": null,
      "max_width": null,
      "min_height": null,
      "min_width": null,
      "object_fit": null,
      "object_position": null,
      "order": null,
      "overflow": null,
      "overflow_x": null,
      "overflow_y": null,
      "padding": null,
      "right": null,
      "top": null,
      "visibility": null,
      "width": null
     }
    },
    "37300f9966a44011b3d9c1ba6eb27d05": {
     "model_module": "@jupyter-widgets/base",
     "model_module_version": "1.2.0",
     "model_name": "LayoutModel",
     "state": {
      "_model_module": "@jupyter-widgets/base",
      "_model_module_version": "1.2.0",
      "_model_name": "LayoutModel",
      "_view_count": null,
      "_view_module": "@jupyter-widgets/base",
      "_view_module_version": "1.2.0",
      "_view_name": "LayoutView",
      "align_content": null,
      "align_items": null,
      "align_self": null,
      "border": null,
      "bottom": null,
      "display": null,
      "flex": null,
      "flex_flow": null,
      "grid_area": null,
      "grid_auto_columns": null,
      "grid_auto_flow": null,
      "grid_auto_rows": null,
      "grid_column": null,
      "grid_gap": null,
      "grid_row": null,
      "grid_template_areas": null,
      "grid_template_columns": null,
      "grid_template_rows": null,
      "height": null,
      "justify_content": null,
      "justify_items": null,
      "left": null,
      "margin": null,
      "max_height": null,
      "max_width": null,
      "min_height": null,
      "min_width": null,
      "object_fit": null,
      "object_position": null,
      "order": null,
      "overflow": null,
      "overflow_x": null,
      "overflow_y": null,
      "padding": null,
      "right": null,
      "top": null,
      "visibility": null,
      "width": null
     }
    },
    "3eea0083aa504d05a80ace02d5ea0dd0": {
     "model_module": "@jupyter-widgets/controls",
     "model_module_version": "1.5.0",
     "model_name": "HTMLModel",
     "state": {
      "_dom_classes": [],
      "_model_module": "@jupyter-widgets/controls",
      "_model_module_version": "1.5.0",
      "_model_name": "HTMLModel",
      "_view_count": null,
      "_view_module": "@jupyter-widgets/controls",
      "_view_module_version": "1.5.0",
      "_view_name": "HTMLView",
      "description": "",
      "description_tooltip": null,
      "layout": "IPY_MODEL_e45a6afe3edf424aab5ba580dca73e46",
      "placeholder": "​",
      "style": "IPY_MODEL_55ca2807d0fa4a5fb37468c1e480c7ef",
      "value": " 1000/1000 [00:07&lt;00:00, 133.23it/s]"
     }
    },
    "4d2aefbd75204dc6ba7d5cf22095c92e": {
     "model_module": "@jupyter-widgets/controls",
     "model_module_version": "1.5.0",
     "model_name": "FloatProgressModel",
     "state": {
      "_dom_classes": [],
      "_model_module": "@jupyter-widgets/controls",
      "_model_module_version": "1.5.0",
      "_model_name": "FloatProgressModel",
      "_view_count": null,
      "_view_module": "@jupyter-widgets/controls",
      "_view_module_version": "1.5.0",
      "_view_name": "ProgressView",
      "bar_style": "success",
      "description": "",
      "description_tooltip": null,
      "layout": "IPY_MODEL_bb12a6f732e0400fa05cd08bdb25c269",
      "max": 1,
      "min": 0,
      "orientation": "horizontal",
      "style": "IPY_MODEL_189e6e161f8047d3ad4d832d75bda4c7",
      "value": 1
     }
    },
    "4ee88168a0c541f9aaaf1137706a8d3a": {
     "model_module": "@jupyter-widgets/base",
     "model_module_version": "1.2.0",
     "model_name": "LayoutModel",
     "state": {
      "_model_module": "@jupyter-widgets/base",
      "_model_module_version": "1.2.0",
      "_model_name": "LayoutModel",
      "_view_count": null,
      "_view_module": "@jupyter-widgets/base",
      "_view_module_version": "1.2.0",
      "_view_name": "LayoutView",
      "align_content": null,
      "align_items": null,
      "align_self": null,
      "border": null,
      "bottom": null,
      "display": null,
      "flex": null,
      "flex_flow": null,
      "grid_area": null,
      "grid_auto_columns": null,
      "grid_auto_flow": null,
      "grid_auto_rows": null,
      "grid_column": null,
      "grid_gap": null,
      "grid_row": null,
      "grid_template_areas": null,
      "grid_template_columns": null,
      "grid_template_rows": null,
      "height": null,
      "justify_content": null,
      "justify_items": null,
      "left": null,
      "margin": null,
      "max_height": null,
      "max_width": null,
      "min_height": null,
      "min_width": null,
      "object_fit": null,
      "object_position": null,
      "order": null,
      "overflow": null,
      "overflow_x": null,
      "overflow_y": null,
      "padding": null,
      "right": null,
      "top": null,
      "visibility": null,
      "width": null
     }
    },
    "548be41df6704219b9afbc087b864c43": {
     "model_module": "@jupyter-widgets/controls",
     "model_module_version": "1.5.0",
     "model_name": "FloatProgressModel",
     "state": {
      "_dom_classes": [],
      "_model_module": "@jupyter-widgets/controls",
      "_model_module_version": "1.5.0",
      "_model_name": "FloatProgressModel",
      "_view_count": null,
      "_view_module": "@jupyter-widgets/controls",
      "_view_module_version": "1.5.0",
      "_view_name": "ProgressView",
      "bar_style": "success",
      "description": "",
      "description_tooltip": null,
      "layout": "IPY_MODEL_299f93eae7434103b1a78c5484d96859",
      "max": 1000,
      "min": 0,
      "orientation": "horizontal",
      "style": "IPY_MODEL_bf1c94a683064d58b26c09af03a93ecd",
      "value": 1000
     }
    },
    "55ca2807d0fa4a5fb37468c1e480c7ef": {
     "model_module": "@jupyter-widgets/controls",
     "model_module_version": "1.5.0",
     "model_name": "DescriptionStyleModel",
     "state": {
      "_model_module": "@jupyter-widgets/controls",
      "_model_module_version": "1.5.0",
      "_model_name": "DescriptionStyleModel",
      "_view_count": null,
      "_view_module": "@jupyter-widgets/base",
      "_view_module_version": "1.2.0",
      "_view_name": "StyleView",
      "description_width": ""
     }
    },
    "5a8381adb71b4c9ab18d026412a92b9b": {
     "model_module": "@jupyter-widgets/controls",
     "model_module_version": "1.5.0",
     "model_name": "HTMLModel",
     "state": {
      "_dom_classes": [],
      "_model_module": "@jupyter-widgets/controls",
      "_model_module_version": "1.5.0",
      "_model_name": "HTMLModel",
      "_view_count": null,
      "_view_module": "@jupyter-widgets/controls",
      "_view_module_version": "1.5.0",
      "_view_name": "HTMLView",
      "description": "",
      "description_tooltip": null,
      "layout": "IPY_MODEL_339f9aeae2e24442b2839ecb42965e03",
      "placeholder": "​",
      "style": "IPY_MODEL_f9259119d8ef4525ad257af0543d4256",
      "value": " 1000/1000 [00:08&lt;00:00, 134.64it/s]"
     }
    },
    "604558fbf9c94598ac2508128787b82a": {
     "model_module": "@jupyter-widgets/controls",
     "model_module_version": "1.5.0",
     "model_name": "DescriptionStyleModel",
     "state": {
      "_model_module": "@jupyter-widgets/controls",
      "_model_module_version": "1.5.0",
      "_model_name": "DescriptionStyleModel",
      "_view_count": null,
      "_view_module": "@jupyter-widgets/base",
      "_view_module_version": "1.2.0",
      "_view_name": "StyleView",
      "description_width": ""
     }
    },
    "67cfbf56ace44b96937caee9d7e9c389": {
     "model_module": "@jupyter-widgets/controls",
     "model_module_version": "1.5.0",
     "model_name": "HTMLModel",
     "state": {
      "_dom_classes": [],
      "_model_module": "@jupyter-widgets/controls",
      "_model_module_version": "1.5.0",
      "_model_name": "HTMLModel",
      "_view_count": null,
      "_view_module": "@jupyter-widgets/controls",
      "_view_module_version": "1.5.0",
      "_view_name": "HTMLView",
      "description": "",
      "description_tooltip": null,
      "layout": "IPY_MODEL_e5152f9107c5463a933d86e8f321cf84",
      "placeholder": "​",
      "style": "IPY_MODEL_604558fbf9c94598ac2508128787b82a",
      "value": " 1/1 [00:30&lt;00:00, 30.28s/it]"
     }
    },
    "7288df80a2ef4a9498b2d174cf6d024c": {
     "model_module": "@jupyter-widgets/controls",
     "model_module_version": "1.5.0",
     "model_name": "HBoxModel",
     "state": {
      "_dom_classes": [],
      "_model_module": "@jupyter-widgets/controls",
      "_model_module_version": "1.5.0",
      "_model_name": "HBoxModel",
      "_view_count": null,
      "_view_module": "@jupyter-widgets/controls",
      "_view_module_version": "1.5.0",
      "_view_name": "HBoxView",
      "box_style": "",
      "children": [
       "IPY_MODEL_f369e1f1885048829e5ccb0ae3d9163a",
       "IPY_MODEL_548be41df6704219b9afbc087b864c43",
       "IPY_MODEL_5a8381adb71b4c9ab18d026412a92b9b"
      ],
      "layout": "IPY_MODEL_b926a126c7dd48f1b4ad666143e2e1ee"
     }
    },
    "768261bcf5e14041a1ec9e3bcc7d0da3": {
     "model_module": "@jupyter-widgets/controls",
     "model_module_version": "1.5.0",
     "model_name": "FloatProgressModel",
     "state": {
      "_dom_classes": [],
      "_model_module": "@jupyter-widgets/controls",
      "_model_module_version": "1.5.0",
      "_model_name": "FloatProgressModel",
      "_view_count": null,
      "_view_module": "@jupyter-widgets/controls",
      "_view_module_version": "1.5.0",
      "_view_name": "ProgressView",
      "bar_style": "success",
      "description": "",
      "description_tooltip": null,
      "layout": "IPY_MODEL_f6f897f65ab14ed68c432f5581d4ac8d",
      "max": 1000,
      "min": 0,
      "orientation": "horizontal",
      "style": "IPY_MODEL_833bb0b98de3415dbea3ab705f7ee012",
      "value": 1000
     }
    },
    "791266931386412db3f263ca77864e23": {
     "model_module": "@jupyter-widgets/base",
     "model_module_version": "1.2.0",
     "model_name": "LayoutModel",
     "state": {
      "_model_module": "@jupyter-widgets/base",
      "_model_module_version": "1.2.0",
      "_model_name": "LayoutModel",
      "_view_count": null,
      "_view_module": "@jupyter-widgets/base",
      "_view_module_version": "1.2.0",
      "_view_name": "LayoutView",
      "align_content": null,
      "align_items": null,
      "align_self": null,
      "border": null,
      "bottom": null,
      "display": null,
      "flex": null,
      "flex_flow": null,
      "grid_area": null,
      "grid_auto_columns": null,
      "grid_auto_flow": null,
      "grid_auto_rows": null,
      "grid_column": null,
      "grid_gap": null,
      "grid_row": null,
      "grid_template_areas": null,
      "grid_template_columns": null,
      "grid_template_rows": null,
      "height": null,
      "justify_content": null,
      "justify_items": null,
      "left": null,
      "margin": null,
      "max_height": null,
      "max_width": null,
      "min_height": null,
      "min_width": null,
      "object_fit": null,
      "object_position": null,
      "order": null,
      "overflow": null,
      "overflow_x": null,
      "overflow_y": null,
      "padding": null,
      "right": null,
      "top": null,
      "visibility": null,
      "width": null
     }
    },
    "7e675a1f2cab41abbfcf2c3543345134": {
     "model_module": "@jupyter-widgets/controls",
     "model_module_version": "1.5.0",
     "model_name": "DescriptionStyleModel",
     "state": {
      "_model_module": "@jupyter-widgets/controls",
      "_model_module_version": "1.5.0",
      "_model_name": "DescriptionStyleModel",
      "_view_count": null,
      "_view_module": "@jupyter-widgets/base",
      "_view_module_version": "1.2.0",
      "_view_name": "StyleView",
      "description_width": ""
     }
    },
    "7fe94209229a40e4b7e078171311f116": {
     "model_module": "@jupyter-widgets/controls",
     "model_module_version": "1.5.0",
     "model_name": "HTMLModel",
     "state": {
      "_dom_classes": [],
      "_model_module": "@jupyter-widgets/controls",
      "_model_module_version": "1.5.0",
      "_model_name": "HTMLModel",
      "_view_count": null,
      "_view_module": "@jupyter-widgets/controls",
      "_view_module_version": "1.5.0",
      "_view_name": "HTMLView",
      "description": "",
      "description_tooltip": null,
      "layout": "IPY_MODEL_880abbf33a5f48098df9fdc8f2fec24c",
      "placeholder": "​",
      "style": "IPY_MODEL_ae23691811cf4019ae02a09979a9128b",
      "value": "100%"
     }
    },
    "833bb0b98de3415dbea3ab705f7ee012": {
     "model_module": "@jupyter-widgets/controls",
     "model_module_version": "1.5.0",
     "model_name": "ProgressStyleModel",
     "state": {
      "_model_module": "@jupyter-widgets/controls",
      "_model_module_version": "1.5.0",
      "_model_name": "ProgressStyleModel",
      "_view_count": null,
      "_view_module": "@jupyter-widgets/base",
      "_view_module_version": "1.2.0",
      "_view_name": "StyleView",
      "bar_color": null,
      "description_width": ""
     }
    },
    "880abbf33a5f48098df9fdc8f2fec24c": {
     "model_module": "@jupyter-widgets/base",
     "model_module_version": "1.2.0",
     "model_name": "LayoutModel",
     "state": {
      "_model_module": "@jupyter-widgets/base",
      "_model_module_version": "1.2.0",
      "_model_name": "LayoutModel",
      "_view_count": null,
      "_view_module": "@jupyter-widgets/base",
      "_view_module_version": "1.2.0",
      "_view_name": "LayoutView",
      "align_content": null,
      "align_items": null,
      "align_self": null,
      "border": null,
      "bottom": null,
      "display": null,
      "flex": null,
      "flex_flow": null,
      "grid_area": null,
      "grid_auto_columns": null,
      "grid_auto_flow": null,
      "grid_auto_rows": null,
      "grid_column": null,
      "grid_gap": null,
      "grid_row": null,
      "grid_template_areas": null,
      "grid_template_columns": null,
      "grid_template_rows": null,
      "height": null,
      "justify_content": null,
      "justify_items": null,
      "left": null,
      "margin": null,
      "max_height": null,
      "max_width": null,
      "min_height": null,
      "min_width": null,
      "object_fit": null,
      "object_position": null,
      "order": null,
      "overflow": null,
      "overflow_x": null,
      "overflow_y": null,
      "padding": null,
      "right": null,
      "top": null,
      "visibility": null,
      "width": null
     }
    },
    "99af6edec9d14f6ebd3e3497b973f9f5": {
     "model_module": "@jupyter-widgets/controls",
     "model_module_version": "1.5.0",
     "model_name": "HBoxModel",
     "state": {
      "_dom_classes": [],
      "_model_module": "@jupyter-widgets/controls",
      "_model_module_version": "1.5.0",
      "_model_name": "HBoxModel",
      "_view_count": null,
      "_view_module": "@jupyter-widgets/controls",
      "_view_module_version": "1.5.0",
      "_view_name": "HBoxView",
      "box_style": "",
      "children": [
       "IPY_MODEL_ddda6da8c2b5494a806e982b534175c3",
       "IPY_MODEL_4d2aefbd75204dc6ba7d5cf22095c92e",
       "IPY_MODEL_67cfbf56ace44b96937caee9d7e9c389"
      ],
      "layout": "IPY_MODEL_37300f9966a44011b3d9c1ba6eb27d05"
     }
    },
    "9b75d9cb504a4eefba294bba5583a5b0": {
     "model_module": "@jupyter-widgets/controls",
     "model_module_version": "1.5.0",
     "model_name": "DescriptionStyleModel",
     "state": {
      "_model_module": "@jupyter-widgets/controls",
      "_model_module_version": "1.5.0",
      "_model_name": "DescriptionStyleModel",
      "_view_count": null,
      "_view_module": "@jupyter-widgets/base",
      "_view_module_version": "1.2.0",
      "_view_name": "StyleView",
      "description_width": ""
     }
    },
    "ae23691811cf4019ae02a09979a9128b": {
     "model_module": "@jupyter-widgets/controls",
     "model_module_version": "1.5.0",
     "model_name": "DescriptionStyleModel",
     "state": {
      "_model_module": "@jupyter-widgets/controls",
      "_model_module_version": "1.5.0",
      "_model_name": "DescriptionStyleModel",
      "_view_count": null,
      "_view_module": "@jupyter-widgets/base",
      "_view_module_version": "1.2.0",
      "_view_name": "StyleView",
      "description_width": ""
     }
    },
    "b926a126c7dd48f1b4ad666143e2e1ee": {
     "model_module": "@jupyter-widgets/base",
     "model_module_version": "1.2.0",
     "model_name": "LayoutModel",
     "state": {
      "_model_module": "@jupyter-widgets/base",
      "_model_module_version": "1.2.0",
      "_model_name": "LayoutModel",
      "_view_count": null,
      "_view_module": "@jupyter-widgets/base",
      "_view_module_version": "1.2.0",
      "_view_name": "LayoutView",
      "align_content": null,
      "align_items": null,
      "align_self": null,
      "border": null,
      "bottom": null,
      "display": null,
      "flex": null,
      "flex_flow": null,
      "grid_area": null,
      "grid_auto_columns": null,
      "grid_auto_flow": null,
      "grid_auto_rows": null,
      "grid_column": null,
      "grid_gap": null,
      "grid_row": null,
      "grid_template_areas": null,
      "grid_template_columns": null,
      "grid_template_rows": null,
      "height": null,
      "justify_content": null,
      "justify_items": null,
      "left": null,
      "margin": null,
      "max_height": null,
      "max_width": null,
      "min_height": null,
      "min_width": null,
      "object_fit": null,
      "object_position": null,
      "order": null,
      "overflow": null,
      "overflow_x": null,
      "overflow_y": null,
      "padding": null,
      "right": null,
      "top": null,
      "visibility": null,
      "width": null
     }
    },
    "bb12a6f732e0400fa05cd08bdb25c269": {
     "model_module": "@jupyter-widgets/base",
     "model_module_version": "1.2.0",
     "model_name": "LayoutModel",
     "state": {
      "_model_module": "@jupyter-widgets/base",
      "_model_module_version": "1.2.0",
      "_model_name": "LayoutModel",
      "_view_count": null,
      "_view_module": "@jupyter-widgets/base",
      "_view_module_version": "1.2.0",
      "_view_name": "LayoutView",
      "align_content": null,
      "align_items": null,
      "align_self": null,
      "border": null,
      "bottom": null,
      "display": null,
      "flex": null,
      "flex_flow": null,
      "grid_area": null,
      "grid_auto_columns": null,
      "grid_auto_flow": null,
      "grid_auto_rows": null,
      "grid_column": null,
      "grid_gap": null,
      "grid_row": null,
      "grid_template_areas": null,
      "grid_template_columns": null,
      "grid_template_rows": null,
      "height": null,
      "justify_content": null,
      "justify_items": null,
      "left": null,
      "margin": null,
      "max_height": null,
      "max_width": null,
      "min_height": null,
      "min_width": null,
      "object_fit": null,
      "object_position": null,
      "order": null,
      "overflow": null,
      "overflow_x": null,
      "overflow_y": null,
      "padding": null,
      "right": null,
      "top": null,
      "visibility": null,
      "width": null
     }
    },
    "bf1c94a683064d58b26c09af03a93ecd": {
     "model_module": "@jupyter-widgets/controls",
     "model_module_version": "1.5.0",
     "model_name": "ProgressStyleModel",
     "state": {
      "_model_module": "@jupyter-widgets/controls",
      "_model_module_version": "1.5.0",
      "_model_name": "ProgressStyleModel",
      "_view_count": null,
      "_view_module": "@jupyter-widgets/base",
      "_view_module_version": "1.2.0",
      "_view_name": "StyleView",
      "bar_color": null,
      "description_width": ""
     }
    },
    "ddda6da8c2b5494a806e982b534175c3": {
     "model_module": "@jupyter-widgets/controls",
     "model_module_version": "1.5.0",
     "model_name": "HTMLModel",
     "state": {
      "_dom_classes": [],
      "_model_module": "@jupyter-widgets/controls",
      "_model_module_version": "1.5.0",
      "_model_name": "HTMLModel",
      "_view_count": null,
      "_view_module": "@jupyter-widgets/controls",
      "_view_module_version": "1.5.0",
      "_view_name": "HTMLView",
      "description": "",
      "description_tooltip": null,
      "layout": "IPY_MODEL_791266931386412db3f263ca77864e23",
      "placeholder": "​",
      "style": "IPY_MODEL_9b75d9cb504a4eefba294bba5583a5b0",
      "value": "100%"
     }
    },
    "e45a6afe3edf424aab5ba580dca73e46": {
     "model_module": "@jupyter-widgets/base",
     "model_module_version": "1.2.0",
     "model_name": "LayoutModel",
     "state": {
      "_model_module": "@jupyter-widgets/base",
      "_model_module_version": "1.2.0",
      "_model_name": "LayoutModel",
      "_view_count": null,
      "_view_module": "@jupyter-widgets/base",
      "_view_module_version": "1.2.0",
      "_view_name": "LayoutView",
      "align_content": null,
      "align_items": null,
      "align_self": null,
      "border": null,
      "bottom": null,
      "display": null,
      "flex": null,
      "flex_flow": null,
      "grid_area": null,
      "grid_auto_columns": null,
      "grid_auto_flow": null,
      "grid_auto_rows": null,
      "grid_column": null,
      "grid_gap": null,
      "grid_row": null,
      "grid_template_areas": null,
      "grid_template_columns": null,
      "grid_template_rows": null,
      "height": null,
      "justify_content": null,
      "justify_items": null,
      "left": null,
      "margin": null,
      "max_height": null,
      "max_width": null,
      "min_height": null,
      "min_width": null,
      "object_fit": null,
      "object_position": null,
      "order": null,
      "overflow": null,
      "overflow_x": null,
      "overflow_y": null,
      "padding": null,
      "right": null,
      "top": null,
      "visibility": null,
      "width": null
     }
    },
    "e5152f9107c5463a933d86e8f321cf84": {
     "model_module": "@jupyter-widgets/base",
     "model_module_version": "1.2.0",
     "model_name": "LayoutModel",
     "state": {
      "_model_module": "@jupyter-widgets/base",
      "_model_module_version": "1.2.0",
      "_model_name": "LayoutModel",
      "_view_count": null,
      "_view_module": "@jupyter-widgets/base",
      "_view_module_version": "1.2.0",
      "_view_name": "LayoutView",
      "align_content": null,
      "align_items": null,
      "align_self": null,
      "border": null,
      "bottom": null,
      "display": null,
      "flex": null,
      "flex_flow": null,
      "grid_area": null,
      "grid_auto_columns": null,
      "grid_auto_flow": null,
      "grid_auto_rows": null,
      "grid_column": null,
      "grid_gap": null,
      "grid_row": null,
      "grid_template_areas": null,
      "grid_template_columns": null,
      "grid_template_rows": null,
      "height": null,
      "justify_content": null,
      "justify_items": null,
      "left": null,
      "margin": null,
      "max_height": null,
      "max_width": null,
      "min_height": null,
      "min_width": null,
      "object_fit": null,
      "object_position": null,
      "order": null,
      "overflow": null,
      "overflow_x": null,
      "overflow_y": null,
      "padding": null,
      "right": null,
      "top": null,
      "visibility": null,
      "width": null
     }
    },
    "f1d41ef811154956b39ab6e1b9ecc904": {
     "model_module": "@jupyter-widgets/base",
     "model_module_version": "1.2.0",
     "model_name": "LayoutModel",
     "state": {
      "_model_module": "@jupyter-widgets/base",
      "_model_module_version": "1.2.0",
      "_model_name": "LayoutModel",
      "_view_count": null,
      "_view_module": "@jupyter-widgets/base",
      "_view_module_version": "1.2.0",
      "_view_name": "LayoutView",
      "align_content": null,
      "align_items": null,
      "align_self": null,
      "border": null,
      "bottom": null,
      "display": null,
      "flex": null,
      "flex_flow": null,
      "grid_area": null,
      "grid_auto_columns": null,
      "grid_auto_flow": null,
      "grid_auto_rows": null,
      "grid_column": null,
      "grid_gap": null,
      "grid_row": null,
      "grid_template_areas": null,
      "grid_template_columns": null,
      "grid_template_rows": null,
      "height": null,
      "justify_content": null,
      "justify_items": null,
      "left": null,
      "margin": null,
      "max_height": null,
      "max_width": null,
      "min_height": null,
      "min_width": null,
      "object_fit": null,
      "object_position": null,
      "order": null,
      "overflow": null,
      "overflow_x": null,
      "overflow_y": null,
      "padding": null,
      "right": null,
      "top": null,
      "visibility": null,
      "width": null
     }
    },
    "f369e1f1885048829e5ccb0ae3d9163a": {
     "model_module": "@jupyter-widgets/controls",
     "model_module_version": "1.5.0",
     "model_name": "HTMLModel",
     "state": {
      "_dom_classes": [],
      "_model_module": "@jupyter-widgets/controls",
      "_model_module_version": "1.5.0",
      "_model_name": "HTMLModel",
      "_view_count": null,
      "_view_module": "@jupyter-widgets/controls",
      "_view_module_version": "1.5.0",
      "_view_name": "HTMLView",
      "description": "",
      "description_tooltip": null,
      "layout": "IPY_MODEL_f1d41ef811154956b39ab6e1b9ecc904",
      "placeholder": "​",
      "style": "IPY_MODEL_7e675a1f2cab41abbfcf2c3543345134",
      "value": "100%"
     }
    },
    "f6f897f65ab14ed68c432f5581d4ac8d": {
     "model_module": "@jupyter-widgets/base",
     "model_module_version": "1.2.0",
     "model_name": "LayoutModel",
     "state": {
      "_model_module": "@jupyter-widgets/base",
      "_model_module_version": "1.2.0",
      "_model_name": "LayoutModel",
      "_view_count": null,
      "_view_module": "@jupyter-widgets/base",
      "_view_module_version": "1.2.0",
      "_view_name": "LayoutView",
      "align_content": null,
      "align_items": null,
      "align_self": null,
      "border": null,
      "bottom": null,
      "display": null,
      "flex": null,
      "flex_flow": null,
      "grid_area": null,
      "grid_auto_columns": null,
      "grid_auto_flow": null,
      "grid_auto_rows": null,
      "grid_column": null,
      "grid_gap": null,
      "grid_row": null,
      "grid_template_areas": null,
      "grid_template_columns": null,
      "grid_template_rows": null,
      "height": null,
      "justify_content": null,
      "justify_items": null,
      "left": null,
      "margin": null,
      "max_height": null,
      "max_width": null,
      "min_height": null,
      "min_width": null,
      "object_fit": null,
      "object_position": null,
      "order": null,
      "overflow": null,
      "overflow_x": null,
      "overflow_y": null,
      "padding": null,
      "right": null,
      "top": null,
      "visibility": null,
      "width": null
     }
    },
    "f9259119d8ef4525ad257af0543d4256": {
     "model_module": "@jupyter-widgets/controls",
     "model_module_version": "1.5.0",
     "model_name": "DescriptionStyleModel",
     "state": {
      "_model_module": "@jupyter-widgets/controls",
      "_model_module_version": "1.5.0",
      "_model_name": "DescriptionStyleModel",
      "_view_count": null,
      "_view_module": "@jupyter-widgets/base",
      "_view_module_version": "1.2.0",
      "_view_name": "StyleView",
      "description_width": ""
     }
    }
   }
  }
 },
 "nbformat": 4,
 "nbformat_minor": 5
}
