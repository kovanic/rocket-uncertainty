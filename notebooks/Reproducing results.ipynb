{
 "cells": [
  {
   "cell_type": "code",
   "execution_count": 1,
   "id": "93426ff5",
   "metadata": {},
   "outputs": [],
   "source": [
    "%load_ext autoreload\n",
    "%autoreload 2"
   ]
  },
  {
   "cell_type": "code",
   "execution_count": 2,
   "id": "d4dd0cc5",
   "metadata": {},
   "outputs": [],
   "source": [
    "import sys\n",
    "sys.path.append('../src')"
   ]
  },
  {
   "cell_type": "code",
   "execution_count": 3,
   "id": "83486836-831f-483e-ae4d-773a8a993072",
   "metadata": {},
   "outputs": [],
   "source": [
    "import warnings\n",
    "warnings.filterwarnings(\"ignore\")"
   ]
  },
  {
   "cell_type": "code",
   "execution_count": 9,
   "id": "f9152d78",
   "metadata": {},
   "outputs": [],
   "source": [
    "import torch\n",
    "import torch.nn.functional as F\n",
    "\n",
    "import pandas as pd\n",
    "import numpy as np\n",
    "\n",
    "import os\n",
    "from tqdm.auto import tqdm\n",
    "\n",
    "from rocket import ROCKET, Logreg\n",
    "from ucr_utils import load_ucr_seq, train_val_split\n",
    "from sklearn.linear_model import RidgeClassifierCV"
   ]
  },
  {
   "cell_type": "markdown",
   "id": "e5889451",
   "metadata": {},
   "source": [
    "### Settings"
   ]
  },
  {
   "cell_type": "code",
   "execution_count": 5,
   "id": "887177bf",
   "metadata": {},
   "outputs": [
    {
     "data": {
      "text/plain": [
       "<torch._C.Generator at 0x7f574d0bbcf0>"
      ]
     },
     "execution_count": 5,
     "metadata": {},
     "output_type": "execute_result"
    }
   ],
   "source": [
    "PATH_TO_UCR = '../data/Univariate_ts/'\n",
    "PATH_TO_BAKEOFF_SEQUENCES = '../data/results_ucr_bakeoff.csv'\n",
    "PATH_TO_ADDITIONAL_SEQUENCES = '../data/results_ucr_additional.csv'\n",
    "\n",
    "device = torch.device('cuda:0' if torch.cuda.is_available() else 'cpu')\n",
    "\n",
    "torch.manual_seed(0)"
   ]
  },
  {
   "cell_type": "markdown",
   "id": "8bf92003",
   "metadata": {},
   "source": [
    "### Load data"
   ]
  },
  {
   "cell_type": "code",
   "execution_count": 6,
   "id": "6548a384",
   "metadata": {},
   "outputs": [],
   "source": [
    "bakeoff_sequences = pd.read_csv(PATH_TO_BAKEOFF_SEQUENCES)\n",
    "additional_sequences = pd.read_csv(PATH_TO_ADDITIONAL_SEQUENCES)\n",
    "\n",
    "all_sequences = pd.concat([bakeoff_sequences, additional_sequences])\n",
    "all_sequences = all_sequences.set_index('dataset')\n",
    "all_sequences['accuracy_mean_rep_ridge'] = None\n",
    "all_sequences['accuracy_std_rep_ridge'] = None"
   ]
  },
  {
   "cell_type": "code",
   "execution_count": 7,
   "id": "36af6535",
   "metadata": {},
   "outputs": [],
   "source": [
    "# statistics = {}\n",
    "# for seq in all_sequences.index:\n",
    "#     x_train, y_train, x_test, y_test = load_ucr_seq(PATH_TO_UCR, seq, device)\n",
    "#     statistics[seq] =  dict(\n",
    "#         n_train = x_train.size(0),\n",
    "#         n_test = x_test.size(0),\n",
    "#         n_classes = len(y_train.unique())\n",
    "#     )\n",
    "\n",
    "# pd.DataFrame.from_dict(statistics, orient='index').to_csv('../results/statistics.csv')"
   ]
  },
  {
   "cell_type": "markdown",
   "id": "7401ebe5",
   "metadata": {},
   "source": [
    "### Apply ensemble of ROCKETs with ridge classifier (reproducing of paper results)"
   ]
  },
  {
   "cell_type": "code",
   "execution_count": null,
   "id": "fe978c95",
   "metadata": {},
   "outputs": [
    {
     "name": "stderr",
     "output_type": "stream",
     "text": [
      " 25%|████████████████████                                                            | 32/128 [50:34<2:25:21, 90.85s/it]"
     ]
    }
   ],
   "source": [
    "for seq in tqdm(all_sequences.index):\n",
    "    \n",
    "    x_train, y_train, x_test, y_test = load_ucr_seq(PATH_TO_UCR, seq, device)\n",
    "        \n",
    "    rocket_ensemble = [ROCKET(input_len=x_train.size(2), n_kernels=10000, kernels_sizes_set=torch.tensor([7, 9, 11]),\n",
    "                        device=device) for _ in range(10)]\n",
    "    \n",
    "    ensemble_acc = []\n",
    "    \n",
    "    for rocket in rocket_ensemble:\n",
    "        \n",
    "        x_train_rocket = rocket.generate_random_features(x_train)\n",
    "        const_columns_mask = (x_train_rocket.std(0) == 0)\n",
    "        x_train_rocket = x_train_rocket[:,  ~const_columns_mask]\n",
    "        x_train_rocket_mean, x_train_rocket_std = x_train_rocket.mean(0), x_train_rocket.std(0)\n",
    "        x_train_rocket = (x_train_rocket - x_train_rocket_mean) / x_train_rocket_std\n",
    "       \n",
    "        x_test_rocket = rocket.generate_random_features(x_test) \n",
    "        x_test_rocket = x_test_rocket[:,  ~const_columns_mask]\n",
    "        x_test_rocket = (x_test_rocket - x_train_rocket_mean) / x_train_rocket_std\n",
    "        \n",
    "        clf = RidgeClassifierCV(alphas=10 ** np.linspace(-3, 3, 10))\n",
    "        clf.fit(x_train_rocket.cpu().numpy(), y_train.cpu().numpy())\n",
    "        \n",
    "        ensemble_acc.append(clf.score(x_test_rocket.cpu().numpy(), y_test.cpu().numpy()))\n",
    "        \n",
    "    all_sequences.loc[seq, 'accuracy_mean_rep_ridge'] = np.mean(ensemble_acc)\n",
    "    all_sequences.loc[seq, 'accuracy_std_rep_ridge'] = np.std(ensemble_acc)\n",
    "    \n",
    "all_sequences['delta_mean'] = all_sequences['accuracy_mean'] - all_sequences['accuracy_mean_rep_ridge']"
   ]
  },
  {
   "cell_type": "code",
   "execution_count": null,
   "id": "be68b7c1",
   "metadata": {},
   "outputs": [],
   "source": [
    "all_sequences.to_csv('../results/reproduced_results_ridge.csv')"
   ]
  }
 ],
 "metadata": {
  "kernelspec": {
   "display_name": "Python 3 (ipykernel)",
   "language": "python",
   "name": "python3"
  },
  "language_info": {
   "codemirror_mode": {
    "name": "ipython",
    "version": 3
   },
   "file_extension": ".py",
   "mimetype": "text/x-python",
   "name": "python",
   "nbconvert_exporter": "python",
   "pygments_lexer": "ipython3",
   "version": "3.8.10"
  },
  "latex_envs": {
   "LaTeX_envs_menu_present": true,
   "autoclose": false,
   "autocomplete": true,
   "bibliofile": "biblio.bib",
   "cite_by": "apalike",
   "current_citInitial": 1,
   "eqLabelWithNumbers": true,
   "eqNumInitial": 1,
   "hotkeys": {
    "equation": "Ctrl-E",
    "itemize": "Ctrl-I"
   },
   "labels_anchors": false,
   "latex_user_defs": false,
   "report_style_numbering": false,
   "user_envs_cfg": false
  }
 },
 "nbformat": 4,
 "nbformat_minor": 5
}
